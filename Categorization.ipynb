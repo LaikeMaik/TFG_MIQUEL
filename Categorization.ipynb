{
 "cells": [
  {
   "cell_type": "code",
   "execution_count": 1,
   "metadata": {},
   "outputs": [
    {
     "name": "stdout",
     "output_type": "stream",
     "text": [
      "Requirement already satisfied: kmodes in c:\\users\\mique\\anaconda3\\lib\\site-packages (0.12.2)\n",
      "Requirement already satisfied: numpy>=1.10.4 in c:\\users\\mique\\anaconda3\\lib\\site-packages (from kmodes) (1.19.2)\n",
      "Requirement already satisfied: scikit-learn>=0.22.0 in c:\\users\\mique\\anaconda3\\lib\\site-packages (from kmodes) (0.23.2)\n",
      "Requirement already satisfied: joblib>=0.11 in c:\\users\\mique\\anaconda3\\lib\\site-packages (from kmodes) (0.17.0)\n",
      "Requirement already satisfied: scipy>=0.13.3 in c:\\users\\mique\\anaconda3\\lib\\site-packages (from kmodes) (1.5.2)\n",
      "Requirement already satisfied: threadpoolctl>=2.0.0 in c:\\users\\mique\\anaconda3\\lib\\site-packages (from scikit-learn>=0.22.0->kmodes) (2.1.0)\n",
      "<class 'pandas.core.frame.DataFrame'>\n",
      "RangeIndex: 411103 entries, 0 to 411102\n",
      "Data columns (total 62 columns):\n",
      " #   Column                                 Non-Null Count   Dtype  \n",
      "---  ------                                 --------------   -----  \n",
      " 0   accident_type                          411103 non-null  int64  \n",
      " 1   gender                                 411103 non-null  int64  \n",
      " 2   nationality                            411103 non-null  int64  \n",
      " 3   work_situation                         411103 non-null  int64  \n",
      " 4   main_occupation                        411103 non-null  int64  \n",
      " 5   seniority_in_the_job_months            411103 non-null  int64  \n",
      " 6   seniority_in_the_job_days              411103 non-null  int64  \n",
      " 7   contract_type                          411103 non-null  int64  \n",
      " 8   social_security_regime                 411103 non-null  int64  \n",
      " 9   economic_activity_center               411103 non-null  int64  \n",
      " 10  number_workers_center                  411103 non-null  int64  \n",
      " 11  province_enterprise                    411103 non-null  int64  \n",
      " 12  contract_subcontract                   411103 non-null  int64  \n",
      " 13  ETT                                    411103 non-null  int64  \n",
      " 14  personal_assumption                    411103 non-null  int64  \n",
      " 15  own_service                            411103 non-null  int64  \n",
      " 16  foreign_prevention_service             411103 non-null  int64  \n",
      " 17  designated_workers                     411103 non-null  int64  \n",
      " 18  joint_service                          411103 non-null  int64  \n",
      " 19  none_preventive_organization           411103 non-null  int64  \n",
      " 20  accident_place                         411103 non-null  int64  \n",
      " 21  traffic_accident                       411103 non-null  int64  \n",
      " 22  center_belongs_worker_social_security  411103 non-null  int64  \n",
      " 23  center_where_worker_affiliated         411103 non-null  int64  \n",
      " 24  contract_subcontract_relationship      411103 non-null  int64  \n",
      " 25  ETT_relationship                       411103 non-null  int64  \n",
      " 26  other_relations                        411103 non-null  int64  \n",
      " 27  province                               411103 non-null  int64  \n",
      " 28  workers                                411103 non-null  int64  \n",
      " 29  economic_activity_type                 411103 non-null  int64  \n",
      " 30  date_accident                          411103 non-null  int64  \n",
      " 31  date_medical_leave                     411103 non-null  int64  \n",
      " 32  week_day                               411103 non-null  int64  \n",
      " 33  time_day                               411103 non-null  int64  \n",
      " 34  time_workday                           411103 non-null  int64  \n",
      " 35  was_usual_job                          411103 non-null  int64  \n",
      " 36  risk_evaluation                        411103 non-null  int64  \n",
      " 37  place_type                             411103 non-null  int64  \n",
      " 38  job_type                               411103 non-null  int64  \n",
      " 39  specific_physical_activity             411103 non-null  int64  \n",
      " 40  material_physical_activity             411103 non-null  int64  \n",
      " 41  deviation                              411103 non-null  int64  \n",
      " 42  Material_deviation                     411103 non-null  int64  \n",
      " 43  contact_caused_injury                  411103 non-null  int64  \n",
      " 44  material_contact                       411103 non-null  int64  \n",
      " 45  affected_more_workers                  411103 non-null  int64  \n",
      " 46  injury_description                     411103 non-null  int64  \n",
      " 47  injury_severity                        411103 non-null  int64  \n",
      " 48  injured_body_part                      411103 non-null  int64  \n",
      " 49  assistance_type                        411103 non-null  int64  \n",
      " 50  hospitalization                        411103 non-null  int64  \n",
      " 51  daily_temporary_disability_subsidy     411103 non-null  float64\n",
      " 52  injury_severity_discharged             386639 non-null  float64\n",
      " 53  discharge_date                         387121 non-null  float64\n",
      " 54  diagnoses_code                         385676 non-null  object \n",
      " 55  leave_duration                         411103 non-null  int64  \n",
      " 56  age                                    411103 non-null  int64  \n",
      " 57  year_accident                          411103 non-null  int64  \n",
      " 58  DateColumn_accident                    411103 non-null  object \n",
      " 59  DateColumn_medical_leave               411103 non-null  object \n",
      " 60  DateColumn_discharge                   387121 non-null  object \n",
      " 61  Quarter                                411103 non-null  int64  \n",
      "dtypes: float64(3), int64(55), object(4)\n",
      "memory usage: 194.5+ MB\n"
     ]
    }
   ],
   "source": [
    "import numpy as np\n",
    "import pandas as pd \n",
    "import os\n",
    "import matplotlib.pyplot as plt\n",
    "import seaborn as sns\n",
    "import sklearn\n",
    "from itertools import product\n",
    "import time\n",
    "!pip install kmodes\n",
    "from kmodes.kmodes import KModes\n",
    "\n",
    "df = pd.read_csv('DATA/Transport_data_clean.csv')\n",
    "df.info()\n",
    "#the idea is to categorize the variables that have more tha 30-50 values to get a more general view and get more valid clusters"
   ]
  },
  {
   "cell_type": "code",
   "execution_count": 2,
   "metadata": {},
   "outputs": [
    {
     "name": "stdout",
     "output_type": "stream",
     "text": [
      "36-45    33.087815\n",
      "46-55    27.299485\n",
      "26-35    21.184959\n",
      "+56      10.734779\n",
      "16-25     7.692963\n",
      "Name: age, dtype: float64\n"
     ]
    }
   ],
   "source": [
    "df = pd.read_csv('DATA/Transport_data_clean.csv')\n",
    "\n",
    "injury_mapping = {\n",
    "    1: 'mild',\n",
    "    2: 'serious',\n",
    "    3: 'very serious',\n",
    "    4: 'mortal',\n",
    "    '404': 'severity not known'\n",
    "}\n",
    "df['injury_severity'] = df['injury_severity'].map(injury_mapping).fillna('severity not known')\n",
    "\n",
    "# Categorize age using labels directly\n",
    "age_categories = ['16-25', '26-35', '36-45', '46-55', '+56', 'Age not known']\n",
    "#variables['age'] = pd.Categorical(variables['age'], categories=age_categories, ordered=True)\n",
    "age_bins = [0, 25, 35, 45, 55, float('inf')]  # Define age bins as numerical ranges\n",
    "age_labels = ['16-25', '26-35', '36-45', '46-55', '+56']  # Define labels for each age range\n",
    "\n",
    "# Categorize age using numerical ranges\n",
    "df['age'] = pd.cut(df['age'], bins=age_bins, labels=age_labels, include_lowest=True)\n",
    "value_counts = df['age'].value_counts()\n",
    "percentage = (value_counts / len(df)) * 100\n",
    "print(percentage)"
   ]
  },
  {
   "cell_type": "code",
   "execution_count": 3,
   "metadata": {},
   "outputs": [
    {
     "name": "stdout",
     "output_type": "stream",
     "text": [
      "Movement of the body as a result of or with physical effort            26.897882\n",
      "Loss of total or partial control of work equipment or materials        24.261073\n",
      "Movement of the body without added physical effort                     19.104701\n",
      "Falling persons – Slip or trip and fall                                17.255043\n",
      "Breakage, bursting, slipping, falling, collapsing of Material Agent     5.045694\n",
      "Other deviations                                                        3.547043\n",
      "Surprise, fear, violence, aggression, threat, presence                  2.162718\n",
      "Overflow, overturning, leak, spill, emanation                           1.335189\n",
      "Electrical problem, explosion, fire                                     0.390656\n",
      "Name: deviation, dtype: float64\n"
     ]
    }
   ],
   "source": [
    "def rename_based_on_start(record_id):\n",
    "    first_digit = str(record_id)[0]\n",
    "    if first_digit =='1':\n",
    "        return 'Electrical problem, explosion, fire'\n",
    "    elif first_digit =='2':\n",
    "        return 'Overflow, overturning, leak, spill, emanation'\n",
    "    elif first_digit =='3':\n",
    "        return 'Breakage, bursting, slipping, falling, collapsing of Material Agent'\n",
    "    elif first_digit =='4':\n",
    "        return 'Loss of total or partial control of work equipment or materials'\n",
    "    elif first_digit =='5':\n",
    "        return 'Falling persons – Slip or trip and fall'\n",
    "    elif first_digit =='6':\n",
    "        return 'Movement of the body without added physical effort'\n",
    "    elif first_digit =='7':\n",
    "        return 'Movement of the body as a result of or with physical effort'\n",
    "    elif first_digit =='8':\n",
    "        return 'Surprise, fear, violence, aggression, threat, presence'\n",
    "    else:\n",
    "        return 'Other deviations'  # You can handle other cases if needed\n",
    "\n",
    "# Apply the function to rename the records\n",
    "df['deviation'] = df['deviation'].apply(rename_based_on_start)\n",
    "\n",
    "# For demonstration, print the updated DataFrame\n",
    "value_counts = df['deviation'].value_counts()\n",
    "percentage = (value_counts / len(df)) * 100\n",
    "print(percentage)"
   ]
  },
  {
   "cell_type": "code",
   "execution_count": 4,
   "metadata": {},
   "outputs": [
    {
     "name": "stdout",
     "output_type": "stream",
     "text": [
      "Inferior limbs                                       32.888595\n",
      "Superior limbs                                       25.653425\n",
      "Back, including spine and thoracolumbar vertebrae    17.073337\n",
      "Neck                                                  7.257062\n",
      "Whole body - multiple parts                           6.885136\n",
      "Trunk and organs                                      5.219860\n",
      "Head                                                  4.604685\n",
      "Other injuries                                        0.417900\n",
      "Name: injured_body_part, dtype: float64\n"
     ]
    }
   ],
   "source": [
    "def rename_based_on_start(record_id):\n",
    "    first_digit = str(record_id)[0]\n",
    "    if first_digit =='1':\n",
    "        return 'Head'\n",
    "    elif first_digit =='2':\n",
    "        return 'Neck'\n",
    "    elif first_digit =='3':\n",
    "        return 'Back, including spine and thoracolumbar vertebrae'\n",
    "    elif first_digit =='4':\n",
    "        return 'Trunk and organs'\n",
    "    elif first_digit =='5':\n",
    "        return 'Superior limbs'\n",
    "    elif first_digit =='6':\n",
    "        return 'Inferior limbs'\n",
    "    elif first_digit =='7':\n",
    "        return 'Whole body - multiple parts'\n",
    "    else:\n",
    "        return 'Other injuries'  # You can handle other cases if needed\n",
    "\n",
    "# Apply the function to rename the records\n",
    "df['injured_body_part'] = df['injured_body_part'].apply(rename_based_on_start)\n",
    "\n",
    "# For demonstration, print the updated DataFrame\n",
    "value_counts = df['injured_body_part'].value_counts()\n",
    "percentage = (value_counts / len(df)) * 100\n",
    "print(percentage)"
   ]
  },
  {
   "cell_type": "code",
   "execution_count": 5,
   "metadata": {},
   "outputs": [
    {
     "name": "stdout",
     "output_type": "stream",
     "text": [
      "Dislocations, sprains and strains            50.749569\n",
      "Wounds and superficial injuries              30.657281\n",
      "Bone fractures                                9.505161\n",
      "Shock and internal injuries                   6.419316\n",
      "Effects of noise, vibration and pressure      1.284836\n",
      "Burns, scalds and frostbite                   0.562633\n",
      "Multiple injuries                             0.477739\n",
      "Traumatic amputations, loss of body parts     0.242032\n",
      "Poisoning and infections                      0.068596\n",
      "Drowning and suffocation                      0.032838\n",
      "Name: injury_description, dtype: float64\n"
     ]
    }
   ],
   "source": [
    "def rename_based_on_start(record_id):\n",
    "    first_digit = str(record_id)[0]\n",
    "    if first_digit =='1':\n",
    "        return 'Wounds and superficial injuries'\n",
    "    elif first_digit =='2':\n",
    "        return 'Bone fractures'\n",
    "    elif first_digit =='3':\n",
    "        return 'Dislocations, sprains and strains'\n",
    "    elif first_digit =='4':\n",
    "        return 'Traumatic amputations, loss of body parts'\n",
    "    elif first_digit =='5':\n",
    "        return 'Shock and internal injuries'\n",
    "    elif first_digit =='6':\n",
    "        return 'Burns, scalds and frostbite'\n",
    "    elif first_digit =='7':\n",
    "        return 'Poisoning and infections'\n",
    "    elif first_digit =='8':\n",
    "        return 'Drowning and suffocation'\n",
    "    elif first_digit =='9':\n",
    "        return 'Effects of noise, vibration and pressure'\n",
    "    else:\n",
    "        return 'Multiple injuries'  # You can handle other cases if needed\n",
    "\n",
    "# Apply the function to rename the records\n",
    "df['injury_description'] = df['injury_description'].apply(rename_based_on_start)\n",
    "\n",
    "# For demonstration, print the updated DataFrame\n",
    "value_counts = df['injury_description'].value_counts()\n",
    "percentage = (value_counts / len(df)) * 100\n",
    "print(percentage)"
   ]
  },
  {
   "cell_type": "code",
   "execution_count": 6,
   "metadata": {},
   "outputs": [
    {
     "name": "stdout",
     "output_type": "stream",
     "text": [
      "Movement                                                          28.623484\n",
      "Driving/being on board a means of transport or cargo equipment    27.969390\n",
      "Object manipulation                                               20.117343\n",
      "Manual transportation                                             13.987249\n",
      "Work with hand tools                                               3.783237\n",
      "Machine operations                                                 3.012141\n",
      "Being present                                                      1.649951\n",
      "other activities                                                   0.857206\n",
      "Name: specific_physical_activity, dtype: float64\n"
     ]
    }
   ],
   "source": [
    "def rename_based_on_start(record_id):\n",
    "    first_digit = str(record_id)[0]\n",
    "    if first_digit =='1':\n",
    "        return 'Machine operations'\n",
    "    elif first_digit =='2':\n",
    "        return 'Work with hand tools'\n",
    "    elif first_digit =='3':\n",
    "        return 'Driving/being on board a means of transport or cargo equipment'\n",
    "    elif first_digit =='4':\n",
    "        return 'Object manipulation'\n",
    "    elif first_digit =='5':\n",
    "        return 'Manual transportation'\n",
    "    elif first_digit =='6':\n",
    "        return 'Movement'\n",
    "    elif first_digit =='7':\n",
    "        return 'Being present'\n",
    "    else:\n",
    "        return 'other activities'  # You can handle other cases if needed\n",
    "\n",
    "# Apply the function to rename the records\n",
    "df['specific_physical_activity'] = df['specific_physical_activity'].apply(rename_based_on_start)\n",
    "\n",
    "# For demonstration, print the updated DataFrame\n",
    "value_counts = df['specific_physical_activity'].value_counts()\n",
    "percentage = (value_counts / len(df)) * 100\n",
    "print(percentage)"
   ]
  },
  {
   "cell_type": "code",
   "execution_count": 7,
   "metadata": {},
   "outputs": [
    {
     "name": "stdout",
     "output_type": "stream",
     "text": [
      "New hires           36.075631\n",
      "Experienced         25.839996\n",
      "Veterans            20.376889\n",
      "Junior employees    17.707484\n",
      "Name: seniority_in_the_job_months, dtype: float64\n"
     ]
    }
   ],
   "source": [
    "\n",
    "time_bins = [0, 2, 5, float('inf')]  # Define age bins as numerical ranges\n",
    "time_labels = ['Recently started working', 'Worked between 3 to 6 hours', 'Worked more than 6 hours']  # Define labels for each age range\n",
    "\n",
    "# Categorize using numerical ranges\n",
    "df['time_workday'] = pd.cut(df['time_workday'], bins=time_bins, labels=time_labels, include_lowest=True)\n",
    "\n",
    "timeday_bins = [0, 8, 13, 20, float('inf')]  # Define age bins as numerical ranges\n",
    "timeday_labels = ['Dawn', 'Morning', 'Afternoon','Night']  # Define labels for each age range\n",
    "\n",
    "# Categorize using numerical ranges\n",
    "df['time_day'] = pd.cut(df['time_day'], bins=timeday_bins, labels=timeday_labels, include_lowest=True)\n",
    "\n",
    "seniority_bins = [0, 12, 36, 120 ,float('inf')]  # Define age bins as numerical ranges\n",
    "seniority_labels = ['New hires', 'Junior employees', 'Experienced', 'Veterans']  # Define labels for each age range\n",
    "\n",
    "# Categorize using numerical ranges\n",
    "df['seniority_in_the_job_months'] = pd.cut(df['seniority_in_the_job_months'], bins=seniority_bins, labels=seniority_labels, include_lowest=True)\n",
    "\n",
    "value_counts = df['seniority_in_the_job_months'].value_counts()\n",
    "percentage = (value_counts / len(df)) * 100\n",
    "print(percentage)"
   ]
  },
  {
   "cell_type": "code",
   "execution_count": 8,
   "metadata": {},
   "outputs": [],
   "source": [
    "#df.to_csv('DATA\\categorized_data_clean.csv', index=False)\n",
    "#df = pd.read_csv('DATA/Transport_data_clean.csv')\n",
    "m\n"
   ]
  }
 ],
 "metadata": {
  "kernelspec": {
   "display_name": "Python 3",
   "language": "python",
   "name": "python3"
  },
  "language_info": {
   "codemirror_mode": {
    "name": "ipython",
    "version": 3
   },
   "file_extension": ".py",
   "mimetype": "text/x-python",
   "name": "python",
   "nbconvert_exporter": "python",
   "pygments_lexer": "ipython3",
   "version": "3.8.5"
  }
 },
 "nbformat": 4,
 "nbformat_minor": 4
}
